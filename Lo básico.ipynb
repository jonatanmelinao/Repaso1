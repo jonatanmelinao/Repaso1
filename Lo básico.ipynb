{
 "cells": [
  {
   "attachments": {},
   "cell_type": "markdown",
   "metadata": {},
   "source": [
    "## `1.- Imprimir en Pyton`\n",
    "* Para imprimir usamos la función `print()`\n",
    "* Para imprimir un texto, el contenido interior del parentesis debe ir entre comillas `\"\"`\n",
    "* Para imprimir números o booleanos \"True\" o \"False\" el contenido interior entre parentesis va sin comillas\n",
    "* Ejemplo impresión de un texto`print(\"Hola Mundo)`\n",
    "* Ejemplo impresión de un número `print(5)`\n",
    "* Ejemplo impresión de un booleano `print(True)`"
   ]
  },
  {
   "cell_type": "code",
   "execution_count": 21,
   "metadata": {},
   "outputs": [
    {
     "name": "stdout",
     "output_type": "stream",
     "text": [
      "Hola Mundo\n",
      "5\n",
      "True\n"
     ]
    }
   ],
   "source": [
    "print(\"Hola Mundo\")\n",
    "print(5)\n",
    "print(True)"
   ]
  },
  {
   "attachments": {},
   "cell_type": "markdown",
   "metadata": {},
   "source": [
    "## `2.- Objetos y Clases`\n",
    "\n",
    "* Un `objeto` es una colección de información. Ejemplos: `23`, `12.5`, `\"Esteban\"`, `True`, etc.\n",
    "* La `clase` es una plantilla o modelo que define características y comportamientos de un tipo de objeto en particular.\n",
    "* Podemos verificar la `clase` de un objeto con la función `type`. \n",
    "* Algunos tipos comunes de `clase` son:\n",
    "* `int` (números enteros)\n",
    "* `float` (repr. de punto flotante o número decimal)\n",
    "* `str` (cadena de texto) \n",
    "* `bool` (booleanos)"
   ]
  },
  {
   "cell_type": "code",
   "execution_count": 22,
   "metadata": {},
   "outputs": [
    {
     "name": "stdout",
     "output_type": "stream",
     "text": [
      "<class 'int'>\n",
      "<class 'float'>\n",
      "<class 'str'>\n",
      "<class 'bool'>\n"
     ]
    }
   ],
   "source": [
    "print(type(23)) #int es una clase que hacer referencia a numeros enteros\n",
    "print(type(12.5)) #float es una clase que hace referencia a números decimales\n",
    "print(type(\"Esteban\")) #str es una clase que hace referencia a textos\n",
    "print(type(True)) #bool es una clase que hace referencia a booleanos True o False"
   ]
  },
  {
   "attachments": {},
   "cell_type": "markdown",
   "metadata": {},
   "source": [
    "## `3.- Operaciones Matemáticas`\n",
    "\n",
    "* Podemos usar `python` como una calculadora. \n",
    "* El orden de las operaciones se realizan acorde a las propiedades matemáticas.\n",
    "* Algunas de las operaciones disponibles en el lenguaje son:\n",
    "\n",
    "|          | Operación        | Ejemplo    |\n",
    "|----------|------------------|------------|\n",
    "| `+`      | suma             | `2 + 2`    |\n",
    "| `-`      | resta            | `10 - 9`   |\n",
    "| `*`      | multiplicación   | `5 * 2`    |\n",
    "| `/`      | división         | `12 / 7`   |\n",
    "| `%`      | resto            | `12 % 7`   |\n",
    "| `**`     | potencia         | `3 ** 2`   |\n",
    "\n",
    "Como ejemplo, calcular:\n",
    "* $12+5\\cdot 2 - {4\\over 2} + 3^2$.\n",
    "* $2^{50 - 4 \\cdot 9 \\over 7} - {1 \\over 3}$."
   ]
  },
  {
   "cell_type": "code",
   "execution_count": 3,
   "metadata": {},
   "outputs": [
    {
     "name": "stdout",
     "output_type": "stream",
     "text": [
      "29.0\n",
      "3.6666666666666665\n"
     ]
    }
   ],
   "source": [
    "#Primer ejercicio:\n",
    "print(12 + 5 * 2 - (4 / 2) + 3 ** 2)\n",
    "#Segundo ejercicio:\n",
    "print(2 ** ((50 - 4 * 9) / 7) - 1 / 3)"
   ]
  },
  {
   "attachments": {},
   "cell_type": "markdown",
   "metadata": {},
   "source": [
    "## `4.- Variables`\n",
    "\n",
    "* Una variable es una colección de información indexada, bajo un nombre **previamente definido**.\n",
    "* La principal ventaja de las variables es poder reutilizar información dado su condición de almacenar valores y/o información.\n",
    "* Para asignar o crear una variable, usamos el `operador` de asignación `=`.\n",
    "* `python` es sensible a mayúsculas y minúsculas. O sea, `nombre` y `Nombre` serán objetos distintos.\n",
    "\n",
    "**Ejemplo 1:**"
   ]
  },
  {
   "cell_type": "code",
   "execution_count": 6,
   "metadata": {},
   "outputs": [
    {
     "name": "stdout",
     "output_type": "stream",
     "text": [
      "3.6666666666666665\n",
      "<class 'int'>\n",
      "<class 'int'>\n",
      "<class 'float'>\n",
      "<class 'float'>\n",
      "<class 'float'>\n"
     ]
    }
   ],
   "source": [
    "a = (50 - 4 * 9)\n",
    "b = 7\n",
    "c = 1/3\n",
    "division = a / b\n",
    "Resultado = 2 ** division - c\n",
    "print(Resultado)\n",
    "print(type(a))\n",
    "print(type(b))\n",
    "print(type(c))\n",
    "print(type(division))\n",
    "print(type(Resultado))"
   ]
  },
  {
   "attachments": {},
   "cell_type": "markdown",
   "metadata": {},
   "source": [
    "**Ejemplo 2**\n",
    "\n",
    "* Crear correo con su nombre, debe estar compuesto por las dos primeras letras de su nombre y apellido más el número 2023 y ser de dominio @datascience.cl\n",
    "* Verifique el tipo de variable"
   ]
  },
  {
   "cell_type": "code",
   "execution_count": 7,
   "metadata": {},
   "outputs": [
    {
     "name": "stdout",
     "output_type": "stream",
     "text": [
      "jome2023@datascience.cl\n",
      "<class 'str'>\n"
     ]
    }
   ],
   "source": [
    "\n",
    "nombre = \"jome\"\n",
    "numero = \"2023\"\n",
    "dominio = \"@datascience.cl\"\n",
    "correo = nombre + numero + dominio # concatena string o palabras\n",
    "print(correo)\n",
    "print(type(correo)) # str: string (cadena de texto u objeto tipo texto)"
   ]
  }
 ],
 "metadata": {
  "kernelspec": {
   "display_name": "default",
   "language": "python",
   "name": "python3"
  },
  "language_info": {
   "codemirror_mode": {
    "name": "ipython",
    "version": 3
   },
   "file_extension": ".py",
   "mimetype": "text/x-python",
   "name": "python",
   "nbconvert_exporter": "python",
   "pygments_lexer": "ipython3",
   "version": "3.9.12"
  },
  "orig_nbformat": 4
 },
 "nbformat": 4,
 "nbformat_minor": 2
}
